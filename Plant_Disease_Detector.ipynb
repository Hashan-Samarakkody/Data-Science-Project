{
  "nbformat": 4,
  "nbformat_minor": 0,
  "metadata": {
    "colab": {
      "provenance": [],
      "gpuType": "T4",
      "include_colab_link": true
    },
    "kernelspec": {
      "name": "python3",
      "display_name": "Python 3"
    },
    "language_info": {
      "name": "python"
    },
    "accelerator": "GPU"
  },
  "cells": [
    {
      "cell_type": "markdown",
      "metadata": {
        "id": "view-in-github",
        "colab_type": "text"
      },
      "source": [
        "<a href=\"https://colab.research.google.com/github/Hashan-Samarakkody/Data-Science-Project/blob/main/Plant_Disease_Detector.ipynb\" target=\"_parent\"><img src=\"https://colab.research.google.com/assets/colab-badge.svg\" alt=\"Open In Colab\"/></a>"
      ]
    },
    {
      "cell_type": "markdown",
      "source": [
        "Plant Disease Detector is an advanced solution designed to identify and diagnose plant diseases using image recognition technology. This project aims to assist farmers, gardeners, and agricultural professionals in maintaining healthy plants by providing accurate and timely disease diagnoses."
      ],
      "metadata": {
        "id": "9Pt4WmmXmqOK"
      }
    },
    {
      "cell_type": "code",
      "source": [],
      "metadata": {
        "id": "5KUHSymPoI-v"
      },
      "execution_count": null,
      "outputs": []
    }
  ]
}